{
 "cells": [
  {
   "cell_type": "code",
   "execution_count": 14,
   "metadata": {},
   "outputs": [
    {
     "name": "stdout",
     "output_type": "stream",
     "text": [
      "62\n"
     ]
    }
   ],
   "source": [
    "import json\n",
    "from os import getcwd, path\n",
    "import polars as pl\n",
    "import json\n",
    "\n",
    "lines = []\n",
    "filepath=path.join(getcwd(), '..', 'logs', '2024-06-04', '16_23', 'info_log.log')\n",
    "with open(filepath, 'r') as file:\n",
    "    for line in file:\n",
    "        lines.append(json.loads(line))\n",
    "\n",
    "fields = [\n",
    "    \"threadName\",\n",
    "    \"name\",\n",
    "    \"thread\",\n",
    "    \"created\",\n",
    "    \"process\",\n",
    "    \"processName\",\n",
    "    \"relativeCreated\",\n",
    "    \"module\",\n",
    "    \"funcName\",\n",
    "    \"levelno\",\n",
    "    \"msecs\",\n",
    "    \"pathname\",\n",
    "    \"lineno\",\n",
    "    \"asctime\",\n",
    "    \"message\",\n",
    "    \"filename\",\n",
    "    \"levelname\",\n",
    "    \"special\",\n",
    "    \"run\"\n",
    "]\n",
    "\n",
    "df = pl.DataFrame(lines)\n"
   ]
  },
  {
   "cell_type": "code",
   "execution_count": 15,
   "metadata": {},
   "outputs": [
    {
     "data": {
      "text/html": [
       "<div><style>\n",
       ".dataframe > thead > tr,\n",
       ".dataframe > tbody > tr {\n",
       "  text-align: right;\n",
       "  white-space: pre-wrap;\n",
       "}\n",
       "</style>\n",
       "<small>shape: (62, 19)</small><table border=\"1\" class=\"dataframe\"><thead><tr><th>threadName</th><th>name</th><th>thread</th><th>created</th><th>process</th><th>processName</th><th>relativeCreated</th><th>module</th><th>funcName</th><th>levelno</th><th>msecs</th><th>pathname</th><th>lineno</th><th>asctime</th><th>message</th><th>filename</th><th>levelname</th><th>special</th><th>run</th></tr><tr><td>str</td><td>str</td><td>i64</td><td>f64</td><td>i64</td><td>str</td><td>f64</td><td>str</td><td>str</td><td>i64</td><td>f64</td><td>str</td><td>i64</td><td>str</td><td>str</td><td>str</td><td>str</td><td>null</td><td>null</td></tr></thead><tbody><tr><td>&quot;MainThread&quot;</td><td>&quot;setup.logging&quot;</td><td>140470023856128</td><td>1.7175e9</td><td>26077</td><td>&quot;MainProcess&quot;</td><td>57.60932</td><td>&quot;logging&quot;</td><td>&quot;&lt;module&gt;&quot;</td><td>20</td><td>8.0</td><td>&quot;/home/brunolne…</td><td>98</td><td>&quot;2024-06-04 16:…</td><td>&quot;Logging starte…</td><td>&quot;logging.py&quot;</td><td>&quot;INFO&quot;</td><td>null</td><td>null</td></tr><tr><td>&quot;MainThread&quot;</td><td>&quot;setup.logging&quot;</td><td>140470023856128</td><td>1.7175e9</td><td>26077</td><td>&quot;MainProcess&quot;</td><td>985.435486</td><td>&quot;base&quot;</td><td>&quot;init_database&quot;</td><td>20</td><td>936.0</td><td>&quot;/home/brunolne…</td><td>77</td><td>&quot;2024-06-04 16:…</td><td>&quot;Connection to …</td><td>&quot;base.py&quot;</td><td>&quot;INFO&quot;</td><td>null</td><td>null</td></tr><tr><td>&quot;MainThread&quot;</td><td>&quot;setup.logging&quot;</td><td>140470023856128</td><td>1.7175e9</td><td>26077</td><td>&quot;MainProcess&quot;</td><td>1181.854725</td><td>&quot;etl&quot;</td><td>&quot;download_this_…</td><td>20</td><td>132.0</td><td>&quot;/home/brunolne…</td><td>53</td><td>&quot;2024-06-04 16:…</td><td>&quot;Downloading fi…</td><td>&quot;etl.py&quot;</td><td>&quot;INFO&quot;</td><td>null</td><td>null</td></tr><tr><td>&quot;MainThread&quot;</td><td>&quot;setup.logging&quot;</td><td>140470023856128</td><td>1.7175e9</td><td>26077</td><td>&quot;MainProcess&quot;</td><td>1508.037567</td><td>&quot;etl&quot;</td><td>&quot;download_this_…</td><td>20</td><td>459.0</td><td>&quot;/home/brunolne…</td><td>70</td><td>&quot;2024-06-04 16:…</td><td>&quot;Finished file …</td><td>&quot;etl.py&quot;</td><td>&quot;INFO&quot;</td><td>null</td><td>null</td></tr><tr><td>&quot;MainThread&quot;</td><td>&quot;setup.logging&quot;</td><td>140470023856128</td><td>1.7175e9</td><td>26077</td><td>&quot;MainProcess&quot;</td><td>1508.426905</td><td>&quot;etl&quot;</td><td>&quot;extract_this_z…</td><td>20</td><td>459.0</td><td>&quot;/home/brunolne…</td><td>99</td><td>&quot;2024-06-04 16:…</td><td>&quot;Extracting fil…</td><td>&quot;etl.py&quot;</td><td>&quot;INFO&quot;</td><td>null</td><td>null</td></tr><tr><td>&hellip;</td><td>&hellip;</td><td>&hellip;</td><td>&hellip;</td><td>&hellip;</td><td>&hellip;</td><td>&hellip;</td><td>&hellip;</td><td>&hellip;</td><td>&hellip;</td><td>&hellip;</td><td>&hellip;</td><td>&hellip;</td><td>&hellip;</td><td>&hellip;</td><td>&hellip;</td><td>&hellip;</td><td>&hellip;</td><td>&hellip;</td></tr><tr><td>&quot;MainThread&quot;</td><td>&quot;setup.logging&quot;</td><td>140470023856128</td><td>1.7175e9</td><td>26077</td><td>&quot;MainProcess&quot;</td><td>1.7401e6</td><td>&quot;etl&quot;</td><td>&quot;download_this_…</td><td>20</td><td>27.0</td><td>&quot;/home/brunolne…</td><td>53</td><td>&quot;2024-06-04 16:…</td><td>&quot;Downloading fi…</td><td>&quot;etl.py&quot;</td><td>&quot;INFO&quot;</td><td>null</td><td>null</td></tr><tr><td>&quot;MainThread&quot;</td><td>&quot;setup.logging&quot;</td><td>140470023856128</td><td>1.7175e9</td><td>26077</td><td>&quot;MainProcess&quot;</td><td>2.2517e6</td><td>&quot;etl&quot;</td><td>&quot;download_this_…</td><td>20</td><td>664.0</td><td>&quot;/home/brunolne…</td><td>70</td><td>&quot;2024-06-04 17:…</td><td>&quot;Finished file …</td><td>&quot;etl.py&quot;</td><td>&quot;INFO&quot;</td><td>null</td><td>null</td></tr><tr><td>&quot;MainThread&quot;</td><td>&quot;setup.logging&quot;</td><td>140470023856128</td><td>1.7175e9</td><td>26077</td><td>&quot;MainProcess&quot;</td><td>2.2517e6</td><td>&quot;etl&quot;</td><td>&quot;extract_this_z…</td><td>20</td><td>665.0</td><td>&quot;/home/brunolne…</td><td>99</td><td>&quot;2024-06-04 17:…</td><td>&quot;Extracting fil…</td><td>&quot;etl.py&quot;</td><td>&quot;INFO&quot;</td><td>null</td><td>null</td></tr><tr><td>&quot;MainThread&quot;</td><td>&quot;setup.logging&quot;</td><td>140470023856128</td><td>1.7175e9</td><td>26077</td><td>&quot;MainProcess&quot;</td><td>2.2527e6</td><td>&quot;etl&quot;</td><td>&quot;extract_this_z…</td><td>20</td><td>693.0</td><td>&quot;/home/brunolne…</td><td>109</td><td>&quot;2024-06-04 17:…</td><td>&quot;Finished file …</td><td>&quot;etl.py&quot;</td><td>&quot;INFO&quot;</td><td>null</td><td>null</td></tr><tr><td>&quot;MainThread&quot;</td><td>&quot;setup.logging&quot;</td><td>140470023856128</td><td>1.7175e9</td><td>26077</td><td>&quot;MainProcess&quot;</td><td>2.2527e6</td><td>&quot;etl&quot;</td><td>&quot;download_this_…</td><td>20</td><td>693.0</td><td>&quot;/home/brunolne…</td><td>53</td><td>&quot;2024-06-04 17:…</td><td>&quot;Downloading fi…</td><td>&quot;etl.py&quot;</td><td>&quot;INFO&quot;</td><td>null</td><td>null</td></tr></tbody></table></div>"
      ],
      "text/plain": [
       "shape: (62, 19)\n",
       "┌────────────┬──────────────┬─────────────┬──────────┬───┬────────────┬───────────┬─────────┬──────┐\n",
       "│ threadName ┆ name         ┆ thread      ┆ created  ┆ … ┆ filename   ┆ levelname ┆ special ┆ run  │\n",
       "│ ---        ┆ ---          ┆ ---         ┆ ---      ┆   ┆ ---        ┆ ---       ┆ ---     ┆ ---  │\n",
       "│ str        ┆ str          ┆ i64         ┆ f64      ┆   ┆ str        ┆ str       ┆ null    ┆ null │\n",
       "╞════════════╪══════════════╪═════════════╪══════════╪═══╪════════════╪═══════════╪═════════╪══════╡\n",
       "│ MainThread ┆ setup.loggin ┆ 14047002385 ┆ 1.7175e9 ┆ … ┆ logging.py ┆ INFO      ┆ null    ┆ null │\n",
       "│            ┆ g            ┆ 6128        ┆          ┆   ┆            ┆           ┆         ┆      │\n",
       "│ MainThread ┆ setup.loggin ┆ 14047002385 ┆ 1.7175e9 ┆ … ┆ base.py    ┆ INFO      ┆ null    ┆ null │\n",
       "│            ┆ g            ┆ 6128        ┆          ┆   ┆            ┆           ┆         ┆      │\n",
       "│ MainThread ┆ setup.loggin ┆ 14047002385 ┆ 1.7175e9 ┆ … ┆ etl.py     ┆ INFO      ┆ null    ┆ null │\n",
       "│            ┆ g            ┆ 6128        ┆          ┆   ┆            ┆           ┆         ┆      │\n",
       "│ MainThread ┆ setup.loggin ┆ 14047002385 ┆ 1.7175e9 ┆ … ┆ etl.py     ┆ INFO      ┆ null    ┆ null │\n",
       "│            ┆ g            ┆ 6128        ┆          ┆   ┆            ┆           ┆         ┆      │\n",
       "│ MainThread ┆ setup.loggin ┆ 14047002385 ┆ 1.7175e9 ┆ … ┆ etl.py     ┆ INFO      ┆ null    ┆ null │\n",
       "│            ┆ g            ┆ 6128        ┆          ┆   ┆            ┆           ┆         ┆      │\n",
       "│ …          ┆ …            ┆ …           ┆ …        ┆ … ┆ …          ┆ …         ┆ …       ┆ …    │\n",
       "│ MainThread ┆ setup.loggin ┆ 14047002385 ┆ 1.7175e9 ┆ … ┆ etl.py     ┆ INFO      ┆ null    ┆ null │\n",
       "│            ┆ g            ┆ 6128        ┆          ┆   ┆            ┆           ┆         ┆      │\n",
       "│ MainThread ┆ setup.loggin ┆ 14047002385 ┆ 1.7175e9 ┆ … ┆ etl.py     ┆ INFO      ┆ null    ┆ null │\n",
       "│            ┆ g            ┆ 6128        ┆          ┆   ┆            ┆           ┆         ┆      │\n",
       "│ MainThread ┆ setup.loggin ┆ 14047002385 ┆ 1.7175e9 ┆ … ┆ etl.py     ┆ INFO      ┆ null    ┆ null │\n",
       "│            ┆ g            ┆ 6128        ┆          ┆   ┆            ┆           ┆         ┆      │\n",
       "│ MainThread ┆ setup.loggin ┆ 14047002385 ┆ 1.7175e9 ┆ … ┆ etl.py     ┆ INFO      ┆ null    ┆ null │\n",
       "│            ┆ g            ┆ 6128        ┆          ┆   ┆            ┆           ┆         ┆      │\n",
       "│ MainThread ┆ setup.loggin ┆ 14047002385 ┆ 1.7175e9 ┆ … ┆ etl.py     ┆ INFO      ┆ null    ┆ null │\n",
       "│            ┆ g            ┆ 6128        ┆          ┆   ┆            ┆           ┆         ┆      │\n",
       "└────────────┴──────────────┴─────────────┴──────────┴───┴────────────┴───────────┴─────────┴──────┘"
      ]
     },
     "execution_count": 15,
     "metadata": {},
     "output_type": "execute_result"
    }
   ],
   "source": [
    "df"
   ]
  },
  {
   "cell_type": "code",
   "execution_count": null,
   "metadata": {},
   "outputs": [],
   "source": []
  }
 ],
 "metadata": {
  "kernelspec": {
   "display_name": ".venv",
   "language": "python",
   "name": "python3"
  },
  "language_info": {
   "codemirror_mode": {
    "name": "ipython",
    "version": 3
   },
   "file_extension": ".py",
   "mimetype": "text/x-python",
   "name": "python",
   "nbconvert_exporter": "python",
   "pygments_lexer": "ipython3",
   "version": "3.10.12"
  }
 },
 "nbformat": 4,
 "nbformat_minor": 2
}
