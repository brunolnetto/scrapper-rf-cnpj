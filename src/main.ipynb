{
 "cells": [
  {
   "cell_type": "code",
   "execution_count": null,
   "metadata": {},
   "outputs": [],
   "source": [
    "import polars as pl\n",
    "from rich.progress import Progress, SpinnerColumn, BarColumn, TextColumn, TimeElapsedColumn\n",
    "\n",
    "from pathlib import Path\n",
    "from itertools import islice\n",
    "\n",
    "\n",
    "from core.constants import TABLES_INFO_DICT \n",
    "\n",
    "def csvs_to_parquet(audit_map: dict, unzip_dir: Path, output_dir: Path):\n",
    "    \"\"\"\n",
    "    Convert CSVs under unzip_dir to one Parquet per key,\n",
    "    selecting and ordering columns according to TABLES_INFO_DICT.\n",
    "    \"\"\"\n",
    "    output_dir.mkdir(exist_ok=True)\n",
    "\n",
    "    with Progress(\n",
    "        SpinnerColumn(),\n",
    "        TextColumn(\"{task.description}\"),\n",
    "        BarColumn(),\n",
    "        TextColumn(\"{task.completed}/{task.total}\"),\n",
    "        TimeElapsedColumn(),\n",
    "    ) as prog:\n",
    "        for table_name, zip_map in audit_map.items():\n",
    "            csv_paths = [unzip_dir / fname for files in zip_map.values() for fname in files]\n",
    "            if not csv_paths:\n",
    "                print(f\"No CSVs for '{table_name}', skipping.\")\n",
    "                continue\n",
    "\n",
    "            expected_columns = TABLES_INFO_DICT.get(table_name, {}).get(\"columns\")\n",
    "            encoding = TABLES_INFO_DICT[table_name].get(\"encoding\", \"utf8-lossy\")\n",
    "\n",
    "            if not expected_columns:\n",
    "                print(f\"No column mapping found for '{table_name}', skipping.\")\n",
    "                continue\n",
    "\n",
    "            task = prog.add_task(f\"[green]{table_name}\", total=1)  # total = 1 per table\n",
    "            out_file = output_dir / f\"{table_name}.parquet\"\n",
    "            if out_file.exists():\n",
    "                out_file.unlink()\n",
    "\n",
    "            try:\n",
    "                schema = {col: pl.Utf8 for col in expected_columns}\n",
    "                dfs_lazy = [\n",
    "                    pl.scan_csv(str(filepath), schema=schema, encoding=encoding)\n",
    "                    for filepath in csv_paths if filepath.exists()\n",
    "                ]\n",
    "\n",
    "                if not dfs_lazy:\n",
    "                    print(f\"No valid CSV files for '{table_name}', skipping.\")\n",
    "                    continue\n",
    "\n",
    "                df = pl.concat([scan.collect() for scan in dfs_lazy])\n",
    "                df.write_parquet(str(out_file))\n",
    "\n",
    "                prog.update(task, advance=1)  # mark table as done\n",
    "\n",
    "            except Exception as e:\n",
    "                print(f\"Error processing '{table_name}': {e}\")\n",
    "\n"
   ]
  },
  {
   "cell_type": "code",
   "execution_count": null,
   "metadata": {},
   "outputs": [
    {
     "name": "stderr",
     "output_type": "stream",
     "text": [
      "\n",
      "KeyboardInterrupt\n",
      "\n"
     ]
    }
   ],
   "source": [
    "from os import getcwd, path\n",
    "from pathlib import Path\n",
    "\n",
    "import polars as pl\n",
    "\n",
    "from core.constants import TABLES_INFO_DICT\n",
    "from setup.base import get_sink_folder, init_database\n",
    "from core.etl import CNPJ_ETL\n",
    "\n",
    "YEAR = 2025\n",
    "MONTH = str(5).zfill(2)\n",
    "FILES_URL = f\"https://arquivos.receitafederal.gov.br/dados/cnpj/dados_abertos_cnpj/{YEAR}-{MONTH}\"\n",
    "LAYOUT_URL = \"https://www.gov.br/receitafederal/dados/cnpj-metadados.pdf\"\n",
    "\n",
    "download_folder=Path(path.join(getcwd(), \"../data/DOWNLOAD_FILES\"))\n",
    "extract_folder=Path(path.join(getcwd(), \"../data/EXTRACTED_FILES\"))\n",
    "parquet_folder=Path(path.join(getcwd(), \"../data/PARQUET_FILES\"))\n",
    "\n",
    "database = init_database(f\"dadosrfb_{YEAR}{MONTH}\")\n",
    "\n",
    "scraper = CNPJ_ETL(\n",
    "    database, FILES_URL, LAYOUT_URL,\n",
    "    download_folder, extract_folder,\n",
    "    is_parallel=True, delete_zips=True\n",
    ")\n",
    "audits = scraper._prepare_audit_metadata(scraper.fetch_data()).tablename_to_zipfile_to_files\n",
    "\n",
    "csvs_to_parquet(audits, download_folder, parquet_folder)"
   ]
  },
  {
   "cell_type": "code",
   "execution_count": 2,
   "metadata": {},
   "outputs": [
    {
     "name": "stdout",
     "output_type": "stream",
     "text": [
      "Defaulting to user installation because normal site-packages is not writeable\n",
      "Requirement already satisfied: polars in c:\\users\\bruno\\appdata\\local\\packages\\pythonsoftwarefoundation.python.3.12_qbz5n2kfra8p0\\localcache\\local-packages\\python312\\site-packages (1.22.0)\n"
     ]
    },
    {
     "name": "stderr",
     "output_type": "stream",
     "text": [
      "\n",
      "[notice] A new release of pip is available: 25.0.1 -> 25.1.1\n",
      "[notice] To update, run: C:\\Users\\bruno\\AppData\\Local\\Microsoft\\WindowsApps\\PythonSoftwareFoundation.Python.3.12_qbz5n2kfra8p0\\python.exe -m pip install --upgrade pip\n"
     ]
    }
   ],
   "source": [
    "!pip install polars"
   ]
  },
  {
   "cell_type": "code",
   "execution_count": null,
   "metadata": {},
   "outputs": [],
   "source": []
  }
 ],
 "metadata": {
  "kernelspec": {
   "display_name": "Python 3",
   "language": "python",
   "name": "python3"
  },
  "language_info": {
   "codemirror_mode": {
    "name": "ipython",
    "version": 3
   },
   "file_extension": ".py",
   "mimetype": "text/x-python",
   "name": "python",
   "nbconvert_exporter": "python",
   "pygments_lexer": "ipython3",
   "version": "3.12.5"
  }
 },
 "nbformat": 4,
 "nbformat_minor": 2
}
