{
 "cells": [
  {
   "cell_type": "code",
   "execution_count": 5,
   "metadata": {},
   "outputs": [
    {
     "name": "stdout",
     "output_type": "stream",
     "text": [
      "Requirement already satisfied: rich in c:\\users\\bruno\\appdata\\local\\programs\\python\\python312\\lib\\site-packages (14.0.0)\n",
      "Requirement already satisfied: markdown-it-py>=2.2.0 in c:\\users\\bruno\\appdata\\local\\programs\\python\\python312\\lib\\site-packages (from rich) (3.0.0)\n",
      "Requirement already satisfied: pygments<3.0.0,>=2.13.0 in c:\\users\\bruno\\appdata\\roaming\\python\\python312\\site-packages (from rich) (2.18.0)\n",
      "Requirement already satisfied: mdurl~=0.1 in c:\\users\\bruno\\appdata\\local\\programs\\python\\python312\\lib\\site-packages (from markdown-it-py>=2.2.0->rich) (0.1.2)\n",
      "Note: you may need to restart the kernel to use updated packages.\n"
     ]
    },
    {
     "name": "stderr",
     "output_type": "stream",
     "text": [
      "\n",
      "[notice] A new release of pip is available: 24.2 -> 25.1.1\n",
      "[notice] To update, run: python.exe -m pip install --upgrade pip\n"
     ]
    }
   ],
   "source": [
    "%pip install rich\n",
    "\n",
    "import polars as pl\n",
    "from rich.progress import Progress, SpinnerColumn, BarColumn, TextColumn, TimeElapsedColumn\n",
    "\n",
    "from pathlib import Path\n",
    "from itertools import islice\n",
    "\n",
    "\n",
    "from core.constants import TABLES_INFO_DICT \n",
    "\n",
    "def csvs_to_parquet(audit_map: dict, unzip_dir: Path, output_dir: Path):\n",
    "    \"\"\"\n",
    "    Convert CSVs under unzip_dir to one Parquet per key,\n",
    "    selecting and ordering columns according to TABLES_INFO_DICT.\n",
    "    \"\"\"\n",
    "    output_dir.mkdir(exist_ok=True)\n",
    "\n",
    "    with Progress(\n",
    "        SpinnerColumn(),\n",
    "        TextColumn(\"{task.description}\"),\n",
    "        BarColumn(),\n",
    "        TextColumn(\"{task.completed}/{task.total}\"),\n",
    "        TimeElapsedColumn(),\n",
    "    ) as prog:\n",
    "        for table_name, zip_map in audit_map.items():\n",
    "            csv_paths = [unzip_dir / fname for files in zip_map.values() for fname in files]\n",
    "            if not csv_paths:\n",
    "                print(f\"No CSVs for '{table_name}', skipping.\")\n",
    "                continue\n",
    "\n",
    "            expected_columns = TABLES_INFO_DICT.get(table_name, {}).get(\"columns\")\n",
    "            encoding = TABLES_INFO_DICT[table_name].get(\"encoding\", \"utf8-lossy\")\n",
    "\n",
    "            if not expected_columns:\n",
    "                print(f\"No column mapping found for '{table_name}', skipping.\")\n",
    "                continue\n",
    "\n",
    "            task = prog.add_task(f\"[green]{table_name}\", total=1)  # total = 1 per table\n",
    "            out_file = output_dir / f\"{table_name}.parquet\"\n",
    "            if out_file.exists():\n",
    "                out_file.unlink()\n",
    "\n",
    "            try:\n",
    "                schema = {col: pl.Utf8 for col in expected_columns}\n",
    "                dfs_lazy = [\n",
    "                    pl.scan_csv(str(filepath), schema=schema, encoding='utf8-lossy')\n",
    "                    for filepath in csv_paths if filepath.exists()\n",
    "                ]\n",
    "\n",
    "                if not dfs_lazy:\n",
    "                    print(f\"No valid CSV files for '{table_name}', skipping.\")\n",
    "                    continue\n",
    "\n",
    "                df = pl.concat(dfs_lazy)\n",
    "                df.write_parquet(str(out_file), cmpression='zstd')\n",
    "\n",
    "                prog.update(task, advance=1)  # mark table as done\n",
    "\n",
    "            except Exception as e:\n",
    "                print(f\"Error processing '{table_name}': {e}\")\n",
    "\n"
   ]
  },
  {
   "cell_type": "code",
   "execution_count": 7,
   "metadata": {},
   "outputs": [
    {
     "name": "stdout",
     "output_type": "stream",
     "text": [
      "Collecting psycopg2\n",
      "  Downloading psycopg2-2.9.10-cp312-cp312-win_amd64.whl.metadata (5.0 kB)\n",
      "Downloading psycopg2-2.9.10-cp312-cp312-win_amd64.whl (1.2 MB)\n",
      "   ---------------------------------------- 0.0/1.2 MB ? eta -:--:--\n",
      "   --------------------------- ------------ 0.8/1.2 MB 6.7 MB/s eta 0:00:01\n",
      "   ---------------------------------------- 1.2/1.2 MB 5.7 MB/s eta 0:00:00\n",
      "Installing collected packages: psycopg2\n",
      "Successfully installed psycopg2-2.9.10\n",
      "Note: you may need to restart the kernel to use updated packages.\n"
     ]
    },
    {
     "name": "stderr",
     "output_type": "stream",
     "text": [
      "\n",
      "[notice] A new release of pip is available: 24.2 -> 25.1.1\n",
      "[notice] To update, run: python.exe -m pip install --upgrade pip\n"
     ]
    },
    {
     "ename": "ModuleNotFoundError",
     "evalue": "No module named 'yaml'",
     "output_type": "error",
     "traceback": [
      "\u001b[1;31m---------------------------------------------------------------------------\u001b[0m",
      "\u001b[1;31mModuleNotFoundError\u001b[0m                       Traceback (most recent call last)",
      "Cell \u001b[1;32mIn[7], line 9\u001b[0m\n\u001b[0;32m      6\u001b[0m \u001b[38;5;28;01mimport\u001b[39;00m \u001b[38;5;21;01mpolars\u001b[39;00m \u001b[38;5;28;01mas\u001b[39;00m \u001b[38;5;21;01mpl\u001b[39;00m\n\u001b[0;32m      8\u001b[0m \u001b[38;5;28;01mfrom\u001b[39;00m \u001b[38;5;21;01mcore\u001b[39;00m\u001b[38;5;21;01m.\u001b[39;00m\u001b[38;5;21;01mconstants\u001b[39;00m \u001b[38;5;28;01mimport\u001b[39;00m TABLES_INFO_DICT\n\u001b[1;32m----> 9\u001b[0m \u001b[38;5;28;01mfrom\u001b[39;00m \u001b[38;5;21;01msetup\u001b[39;00m\u001b[38;5;21;01m.\u001b[39;00m\u001b[38;5;21;01mbase\u001b[39;00m \u001b[38;5;28;01mimport\u001b[39;00m get_sink_folder, init_database\n\u001b[0;32m     10\u001b[0m \u001b[38;5;28;01mfrom\u001b[39;00m \u001b[38;5;21;01mcore\u001b[39;00m\u001b[38;5;21;01m.\u001b[39;00m\u001b[38;5;21;01metl\u001b[39;00m \u001b[38;5;28;01mimport\u001b[39;00m CNPJ_ETL\n\u001b[0;32m     12\u001b[0m YEAR \u001b[38;5;241m=\u001b[39m \u001b[38;5;241m2025\u001b[39m\n",
      "File \u001b[1;32mc:\\Users\\bruno\\github\\scrapper-rf-cnpj\\src\\setup\\base.py:14\u001b[0m\n\u001b[0;32m     12\u001b[0m \u001b[38;5;28;01mfrom\u001b[39;00m \u001b[38;5;21;01mdatabase\u001b[39;00m\u001b[38;5;21;01m.\u001b[39;00m\u001b[38;5;21;01mschemas\u001b[39;00m \u001b[38;5;28;01mimport\u001b[39;00m Database\n\u001b[0;32m     13\u001b[0m \u001b[38;5;28;01mfrom\u001b[39;00m \u001b[38;5;21;01mdatabase\u001b[39;00m\u001b[38;5;21;01m.\u001b[39;00m\u001b[38;5;21;01mengine\u001b[39;00m \u001b[38;5;28;01mimport\u001b[39;00m create_database \u001b[38;5;28;01mas\u001b[39;00m create_db_engine\n\u001b[1;32m---> 14\u001b[0m \u001b[38;5;28;01mfrom\u001b[39;00m \u001b[38;5;21;01mutils\u001b[39;00m\u001b[38;5;21;01m.\u001b[39;00m\u001b[38;5;21;01mdocker\u001b[39;00m \u001b[38;5;28;01mimport\u001b[39;00m get_postgres_host\n\u001b[0;32m     16\u001b[0m \u001b[38;5;28;01mdef\u001b[39;00m \u001b[38;5;21mload_environment_variables\u001b[39m(env_file: \u001b[38;5;28mstr\u001b[39m \u001b[38;5;241m=\u001b[39m \u001b[38;5;124m'\u001b[39m\u001b[38;5;124m.env\u001b[39m\u001b[38;5;124m'\u001b[39m) \u001b[38;5;241m-\u001b[39m\u001b[38;5;241m>\u001b[39m \u001b[38;5;28;01mNone\u001b[39;00m:\n\u001b[0;32m     17\u001b[0m \u001b[38;5;250m    \u001b[39m\u001b[38;5;124;03m\"\"\"Load environment variables from a file.\"\"\"\u001b[39;00m\n",
      "File \u001b[1;32mc:\\Users\\bruno\\github\\scrapper-rf-cnpj\\src\\utils\\docker.py:2\u001b[0m\n\u001b[0;32m      1\u001b[0m \u001b[38;5;28;01mfrom\u001b[39;00m \u001b[38;5;21;01mre\u001b[39;00m \u001b[38;5;28;01mimport\u001b[39;00m match\n\u001b[1;32m----> 2\u001b[0m \u001b[38;5;28;01mfrom\u001b[39;00m \u001b[38;5;21;01myaml\u001b[39;00m \u001b[38;5;28;01mimport\u001b[39;00m safe_load, YAMLError\n\u001b[0;32m      3\u001b[0m \u001b[38;5;28;01mfrom\u001b[39;00m \u001b[38;5;21;01mos\u001b[39;00m \u001b[38;5;28;01mimport\u001b[39;00m environ\n\u001b[0;32m      5\u001b[0m \u001b[38;5;28;01mfrom\u001b[39;00m \u001b[38;5;21;01msetup\u001b[39;00m\u001b[38;5;21;01m.\u001b[39;00m\u001b[38;5;21;01mlogging\u001b[39;00m \u001b[38;5;28;01mimport\u001b[39;00m logger\n",
      "\u001b[1;31mModuleNotFoundError\u001b[0m: No module named 'yaml'"
     ]
    }
   ],
   "source": [
    "%pip install psycopg2\n",
    "\n",
    "from os import getcwd, path\n",
    "from pathlib import Path\n",
    "\n",
    "import polars as pl\n",
    "\n",
    "from core.constants import TABLES_INFO_DICT\n",
    "from setup.base import get_sink_folder, init_database\n",
    "from core.etl import CNPJ_ETL\n",
    "\n",
    "YEAR = 2025\n",
    "MONTH = str(5).zfill(2)\n",
    "FILES_URL = f\"https://arquivos.receitafederal.gov.br/dados/cnpj/dados_abertos_cnpj/{YEAR}-{MONTH}\"\n",
    "LAYOUT_URL = \"https://www.gov.br/receitafederal/dados/cnpj-metadados.pdf\"\n",
    "\n",
    "download_folder=Path(path.join(getcwd(), \"../data/DOWNLOAD_FILES\"))\n",
    "extract_folder=Path(path.join(getcwd(), \"../data/EXTRACTED_FILES\"))\n",
    "parquet_folder=Path(path.join(getcwd(), \"../data/PARQUET_FILES\"))\n",
    "\n",
    "database = init_database(f\"dadosrfb_{YEAR}{MONTH}\")\n",
    "\n",
    "scraper = CNPJ_ETL(\n",
    "    database, FILES_URL, LAYOUT_URL,\n",
    "    download_folder, extract_folder,\n",
    "    is_parallel=True, delete_zips=True\n",
    ")\n",
    "audits = scraper._prepare_audit_metadata(scraper.fetch_data()).tablename_to_zipfile_to_files\n",
    "\n",
    "csvs_to_parquet(audits, download_folder, parquet_folder)"
   ]
  },
  {
   "cell_type": "code",
   "execution_count": 2,
   "metadata": {},
   "outputs": [
    {
     "name": "stdout",
     "output_type": "stream",
     "text": [
      "Defaulting to user installation because normal site-packages is not writeable\n",
      "Requirement already satisfied: polars in c:\\users\\bruno\\appdata\\local\\packages\\pythonsoftwarefoundation.python.3.12_qbz5n2kfra8p0\\localcache\\local-packages\\python312\\site-packages (1.22.0)\n"
     ]
    },
    {
     "name": "stderr",
     "output_type": "stream",
     "text": [
      "\n",
      "[notice] A new release of pip is available: 25.0.1 -> 25.1.1\n",
      "[notice] To update, run: C:\\Users\\bruno\\AppData\\Local\\Microsoft\\WindowsApps\\PythonSoftwareFoundation.Python.3.12_qbz5n2kfra8p0\\python.exe -m pip install --upgrade pip\n"
     ]
    }
   ],
   "source": [
    "!pip install polars"
   ]
  },
  {
   "cell_type": "code",
   "execution_count": null,
   "metadata": {},
   "outputs": [],
   "source": []
  }
 ],
 "metadata": {
  "kernelspec": {
   "display_name": "Python 3",
   "language": "python",
   "name": "python3"
  },
  "language_info": {
   "codemirror_mode": {
    "name": "ipython",
    "version": 3
   },
   "file_extension": ".py",
   "mimetype": "text/x-python",
   "name": "python",
   "nbconvert_exporter": "python",
   "pygments_lexer": "ipython3",
   "version": "3.12.5"
  }
 },
 "nbformat": 4,
 "nbformat_minor": 2
}
